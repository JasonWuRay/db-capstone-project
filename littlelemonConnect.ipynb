{
 "cells": [
  {
   "cell_type": "code",
   "execution_count": 13,
   "id": "fd587a42-6199-479b-8fc4-086c2122e897",
   "metadata": {},
   "outputs": [
    {
     "name": "stdout",
     "output_type": "stream",
     "text": [
      "conn success\n"
     ]
    }
   ],
   "source": [
    "import mysql.connector as connector\n",
    "\n",
    "# Create connection\n",
    "try:\n",
    "    conn = connector.connect(\n",
    "        host=\"localhost\",        # or your server IP\n",
    "        user=\"root\",             # your MySQL username\n",
    "        password=\"Wuhan#301!\",# your MySQL password\n",
    "        database=\"littlelemondb\" # optional: default schema\n",
    "    )\n",
    "    print(\"conn success\")\n",
    "except: \n",
    "    print(\"conn unsucess\")"
   ]
  },
  {
   "cell_type": "code",
   "execution_count": 14,
   "id": "edeb19eb-abe6-4ef0-aae9-3a333d8a6122",
   "metadata": {
    "scrolled": true
   },
   "outputs": [
    {
     "name": "stdout",
     "output_type": "stream",
     "text": [
      "Cursor is ready. You can now run SQL queries.\n"
     ]
    }
   ],
   "source": [
    "cursor = conn.cursor()\n",
    "print(\"Cursor is ready. You can now run SQL queries.\")"
   ]
  },
  {
   "cell_type": "code",
   "execution_count": 15,
   "id": "c3c5fa98-06fc-4d6a-ab28-f4d41a0a3ad2",
   "metadata": {},
   "outputs": [],
   "source": [
    "cursor.execute(\"USE littlelemondb;\")"
   ]
  },
  {
   "cell_type": "code",
   "execution_count": 16,
   "id": "7441a977-c801-41d9-a1e2-e6fd6528e67c",
   "metadata": {},
   "outputs": [],
   "source": [
    "greater_than_60dollar_query = \"\"\"\n",
    "SELECT c.customer_names, \n",
    "       c.contact_details,\n",
    "       o.total_cost\n",
    "FROM Customer c \n",
    "JOIN Orders o ON c.idcustomer = o.Customer_idcustomer\n",
    "WHERE o.total_cost > 60\n",
    "\"\"\"\n",
    "\n",
    "cursor.execute(greater_than_60dollar_query)\n",
    "results = cursor.fetchall()\n",
    "\n",
    "for row in results:\n",
    "    print(f\"Name: {row[0]}, Contact: {row[1]}, Total: ${row[2]:.2f}\")\n",
    "\n"
   ]
  },
  {
   "cell_type": "code",
   "execution_count": null,
   "id": "698688a2-7260-434b-ae34-d4ab62c4e21e",
   "metadata": {},
   "outputs": [],
   "source": []
  },
  {
   "cell_type": "code",
   "execution_count": null,
   "id": "567dc095-fcf4-4955-aed4-c3dc878e5f5b",
   "metadata": {},
   "outputs": [],
   "source": []
  }
 ],
 "metadata": {
  "kernelspec": {
   "display_name": "Python 3 (ipykernel)",
   "language": "python",
   "name": "python3"
  },
  "language_info": {
   "codemirror_mode": {
    "name": "ipython",
    "version": 3
   },
   "file_extension": ".py",
   "mimetype": "text/x-python",
   "name": "python",
   "nbconvert_exporter": "python",
   "pygments_lexer": "ipython3",
   "version": "3.13.0"
  }
 },
 "nbformat": 4,
 "nbformat_minor": 5
}
